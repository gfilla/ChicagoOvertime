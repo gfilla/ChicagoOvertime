{
 "cells": [
  {
   "cell_type": "markdown",
   "metadata": {},
   "source": [
    "# Chicago Public Official Overtime Analysis "
   ]
  },
  {
   "cell_type": "markdown",
   "metadata": {},
   "source": [
    "This notebook pulls data from the Chicago Data Portal and persists it in a SQLite Database\n",
    "\n",
    "This work is split into an additional notebook.  This data was also analyzed with Airbnb's Superset"
   ]
  },
  {
   "cell_type": "markdown",
   "metadata": {},
   "source": [
    "### Load dependencies"
   ]
  },
  {
   "cell_type": "code",
   "execution_count": 7,
   "metadata": {
    "collapsed": true
   },
   "outputs": [],
   "source": [
    "import pandas as pd\n",
    "import sqlite3"
   ]
  },
  {
   "cell_type": "markdown",
   "metadata": {},
   "source": [
    "\n",
    "---\n",
    "\n",
    "## Data ingestion\n",
    "---"
   ]
  },
  {
   "cell_type": "markdown",
   "metadata": {},
   "source": [
    "### Download Links:"
   ]
  },
  {
   "cell_type": "code",
   "execution_count": 12,
   "metadata": {
    "collapsed": true
   },
   "outputs": [],
   "source": [
    "ot_download_links = {\n",
    "    2016:\"https://data.cityofchicago.org/api/views/tsqz-67gi/rows.csv?accessType=DOWNLOAD\",\n",
    "    2015:\"https://data.cityofchicago.org/api/views/efd5-hyfi/rows.csv?accessType=DOWNLOAD\",\n",
    "    2014:\"https://data.cityofchicago.org/api/views/9xua-tabs/rows.csv?accessType=DOWNLOAD\",\n",
    "    2013:\"https://data.cityofchicago.org/api/views/s9zb-nuc6/rows.csv?accessType=DOWNLOAD\",\n",
    "    2012:\"https://data.cityofchicago.org/api/views/92xk-4rg9/rows.csv?accessType=DOWNLOAD\"\n",
    "}"
   ]
  },
  {
   "cell_type": "code",
   "execution_count": 13,
   "metadata": {
    "collapsed": true
   },
   "outputs": [],
   "source": [
    "crime_download_links = {\n",
    "    2016:\"https://data.cityofchicago.org/api/views/kf95-mnd6/rows.csv?accessType=DOWNLOAD\",\n",
    "    2015:\"https://data.cityofchicago.org/api/views/vwwp-7yr9/rows.csv?accessType=DOWNLOAD\",\n",
    "    2014:\"https://data.cityofchicago.org/api/views/qnmj-8ku6/rows.csv?accessType=DOWNLOAD\",\n",
    "    2013:\"https://data.cityofchicago.org/api/views/a95h-gwzm/rows.csv?accessType=DOWNLOAD\",\n",
    "    2012:\"https://data.cityofchicago.org/api/views/hx8q-mf9v/rows.csv?accessType=DOWNLOAD\"\n",
    "}\n"
   ]
  },
  {
   "cell_type": "markdown",
   "metadata": {},
   "source": [
    "### Download data from each url - store as Pandas DataFrames\n",
    "\n",
    "Stored as dictionary:\n",
    "\n",
    "`{df_name: DataFrame}`\n",
    "\n",
    "This is one way to work with multiple dataframes"
   ]
  },
  {
   "cell_type": "code",
   "execution_count": 14,
   "metadata": {
    "collapsed": false,
    "scrolled": true
   },
   "outputs": [
    {
     "name": "stdout",
     "output_type": "stream",
     "text": [
      "Shape of OT data for 2016: (25764, 16)\n",
      "Shape of OT data for 2012: (24270, 16)\n",
      "Shape of OT data for 2013: (22708, 16)\n",
      "Shape of OT data for 2014: (24273, 16)\n",
      "Shape of OT data for 2015: (24082, 16)\n"
     ]
    }
   ],
   "source": [
    "ot_data = {} #overtime data frames\n",
    "for year in ot_download_links.keys():\n",
    "    ot_data['ot_'+ str(year)] = pd.read_csv(ot_download_links[year])\n",
    "    print(\"Shape of OT data for \"+ str(year)+\": \" + str(ot_data['ot_'+ str(year)].shape))"
   ]
  },
  {
   "cell_type": "code",
   "execution_count": 15,
   "metadata": {
    "collapsed": false
   },
   "outputs": [
    {
     "name": "stdout",
     "output_type": "stream",
     "text": [
      "Shape of crime data for 2016: (267453, 22)\n",
      "Shape of crime data for 2012: (335738, 22)\n",
      "Shape of crime data for 2013: (306761, 22)\n",
      "Shape of crime data for 2014: (274666, 22)\n",
      "Shape of crime data for 2015: (263231, 22)\n"
     ]
    }
   ],
   "source": [
    "crime_data = {}\n",
    "for year in crime_download_links.keys():\n",
    "    crime_data['crime_'+ str(year)] = pd.read_csv(crime_download_links[year])\n",
    "    print(\"Shape of crime data for \"+ str(year)+ \": \"+ str(crime_data['crime_'+ str(year)].shape))"
   ]
  },
  {
   "cell_type": "markdown",
   "metadata": {},
   "source": [
    "# Overtime Data \n",
    "---\n"
   ]
  },
  {
   "cell_type": "code",
   "execution_count": 74,
   "metadata": {
    "collapsed": false,
    "scrolled": true
   },
   "outputs": [
    {
     "data": {
      "text/html": [
       "<div>\n",
       "<table border=\"1\" class=\"dataframe\">\n",
       "  <thead>\n",
       "    <tr style=\"text-align: right;\">\n",
       "      <th></th>\n",
       "      <th>dept_name</th>\n",
       "      <th>emp_name</th>\n",
       "      <th>title</th>\n",
       "      <th>jan</th>\n",
       "      <th>feb</th>\n",
       "      <th>mar</th>\n",
       "      <th>apr</th>\n",
       "      <th>may</th>\n",
       "      <th>jun</th>\n",
       "      <th>jul</th>\n",
       "      <th>aug</th>\n",
       "      <th>sep</th>\n",
       "      <th>oct</th>\n",
       "      <th>nov</th>\n",
       "      <th>dec</th>\n",
       "      <th>total</th>\n",
       "      <th>year</th>\n",
       "    </tr>\n",
       "  </thead>\n",
       "  <tbody>\n",
       "    <tr>\n",
       "      <th>0</th>\n",
       "      <td>Administrative Hearings</td>\n",
       "      <td>WOODRIDGE, RACHENETTE</td>\n",
       "      <td>ADMINISTRATIVE ASST II</td>\n",
       "      <td>0.0</td>\n",
       "      <td>0.0</td>\n",
       "      <td>0.0</td>\n",
       "      <td>0.0</td>\n",
       "      <td>0.0</td>\n",
       "      <td>0.0</td>\n",
       "      <td>0.0</td>\n",
       "      <td>0.0</td>\n",
       "      <td>0.0</td>\n",
       "      <td>0.0</td>\n",
       "      <td>445.0</td>\n",
       "      <td>0.0</td>\n",
       "      <td>445.0</td>\n",
       "      <td>2012</td>\n",
       "    </tr>\n",
       "  </tbody>\n",
       "</table>\n",
       "</div>"
      ],
      "text/plain": [
       "                 dept_name               emp_name                   title  \\\n",
       "0  Administrative Hearings  WOODRIDGE, RACHENETTE  ADMINISTRATIVE ASST II   \n",
       "\n",
       "   jan  feb  mar  apr  may  jun  jul  aug  sep  oct    nov  dec  total  year  \n",
       "0  0.0  0.0  0.0  0.0  0.0  0.0  0.0  0.0  0.0  0.0  445.0  0.0  445.0  2012  "
      ]
     },
     "execution_count": 74,
     "metadata": {},
     "output_type": "execute_result"
    }
   ],
   "source": [
    "ot_data['ot_2012'].head(1)"
   ]
  },
  {
   "cell_type": "markdown",
   "metadata": {},
   "source": [
    "#### Check out headers\n",
    "\n",
    "This is the same data set from 5 years, I wanted to see if the schema was consistent.  The naming conventions changed, but the order of column values was consistent over the overs.  \n",
    "\n",
    "- If there are more years to analyze, write a function to compare column names and/or dtypes to see if schema changes over the years"
   ]
  },
  {
   "cell_type": "code",
   "execution_count": 75,
   "metadata": {
    "collapsed": false,
    "scrolled": false
   },
   "outputs": [
    {
     "name": "stdout",
     "output_type": "stream",
     "text": [
      "Index([u'dept_name', u'emp_name', u'title', u'jan', u'feb', u'mar', u'apr',\n",
      "       u'may', u'jun', u'jul', u'aug', u'sep', u'oct', u'nov', u'dec',\n",
      "       u'total', u'year'],\n",
      "      dtype='object')\n",
      "Index([u'dept_name', u'emp_name', u'title', u'jan', u'feb', u'mar', u'apr',\n",
      "       u'may', u'jun', u'jul', u'aug', u'sep', u'oct', u'nov', u'dec',\n",
      "       u'total', u'year'],\n",
      "      dtype='object')\n",
      "Index([u'dept_name', u'emp_name', u'title', u'jan', u'feb', u'mar', u'apr',\n",
      "       u'may', u'jun', u'jul', u'aug', u'sep', u'oct', u'nov', u'dec',\n",
      "       u'total', u'year'],\n",
      "      dtype='object')\n",
      "Index([u'dept_name', u'emp_name', u'title', u'jan', u'feb', u'mar', u'apr',\n",
      "       u'may', u'jun', u'jul', u'aug', u'sep', u'oct', u'nov', u'dec',\n",
      "       u'total', u'year'],\n",
      "      dtype='object')\n",
      "Index([u'dept_name', u'emp_name', u'title', u'jan', u'feb', u'mar', u'apr',\n",
      "       u'may', u'jun', u'jul', u'aug', u'sep', u'oct', u'nov', u'dec',\n",
      "       u'total', u'year'],\n",
      "      dtype='object')\n"
     ]
    }
   ],
   "source": [
    "for file_name in ot_data.keys():\n",
    "    print( ot_data[file_name].columns)"
   ]
  },
  {
   "cell_type": "markdown",
   "metadata": {},
   "source": [
    "### Clean data\n",
    "\n",
    "- Found the numbers were stored as strings.  \n",
    "- Convert the strings to floats, don't convert the actual string columns, print the name of the column if can't convert for some reason."
   ]
  },
  {
   "cell_type": "code",
   "execution_count": 76,
   "metadata": {
    "collapsed": true
   },
   "outputs": [],
   "source": [
    "def ot_clean(month_df):\n",
    "    for col in month_df.columns.tolist():\n",
    "        if col.upper() not in ['DEPARTMENT NAME', 'EMPLOYEE NAME', 'TITLE', 'NAME']:\n",
    "            try:\n",
    "                month_df[col] = month_df[col].str.replace(',', '')\n",
    "                month_df[col] = month_df[col].str.replace('$', '')\n",
    "                month_df[col] = month_df[col].astype(float)\n",
    "            except: \n",
    "                print(col)\n",
    "    return(month_df)"
   ]
  },
  {
   "cell_type": "code",
   "execution_count": 77,
   "metadata": {
    "collapsed": false,
    "scrolled": true
   },
   "outputs": [
    {
     "name": "stdout",
     "output_type": "stream",
     "text": [
      "dept_name\n",
      "emp_name\n",
      "jan\n",
      "feb\n",
      "mar\n",
      "apr\n",
      "may\n",
      "jun\n",
      "jul\n",
      "aug\n",
      "sep\n",
      "oct\n",
      "nov\n",
      "dec\n",
      "total\n",
      "year\n",
      "dept_name\n",
      "emp_name\n",
      "jan\n",
      "feb\n",
      "mar\n",
      "apr\n",
      "may\n",
      "jun\n",
      "jul\n",
      "aug\n",
      "sep\n",
      "oct\n",
      "nov\n",
      "dec\n",
      "total\n",
      "year\n",
      "dept_name\n",
      "emp_name\n",
      "jan\n",
      "feb\n",
      "mar\n",
      "apr\n",
      "may\n",
      "jun\n",
      "jul\n",
      "aug\n",
      "sep\n",
      "oct\n",
      "nov\n",
      "dec\n",
      "total\n",
      "year\n",
      "dept_name\n",
      "emp_name\n",
      "jan\n",
      "feb\n",
      "mar\n",
      "apr\n",
      "may\n",
      "jun\n",
      "jul\n",
      "aug\n",
      "sep\n",
      "oct\n",
      "nov\n",
      "dec\n",
      "total\n",
      "year\n",
      "dept_name\n",
      "emp_name\n",
      "jan\n",
      "feb\n",
      "mar\n",
      "apr\n",
      "may\n",
      "jun\n",
      "jul\n",
      "aug\n",
      "sep\n",
      "oct\n",
      "nov\n",
      "dec\n",
      "total\n",
      "year\n"
     ]
    }
   ],
   "source": [
    "for file_name in ot_data.keys():\n",
    "    try:\n",
    "        ot_data[file_name] = ot_clean(ot_data[file_name])\n",
    "    except:\n",
    "        print (file_name)"
   ]
  },
  {
   "cell_type": "markdown",
   "metadata": {},
   "source": [
    "### Add a column for the year for storage"
   ]
  },
  {
   "cell_type": "code",
   "execution_count": 78,
   "metadata": {
    "collapsed": true
   },
   "outputs": [],
   "source": [
    "from datetime import datetime"
   ]
  },
  {
   "cell_type": "markdown",
   "metadata": {},
   "source": [
    "#### Fixing my mistake - found when investigating DB data."
   ]
  },
  {
   "cell_type": "code",
   "execution_count": 87,
   "metadata": {
    "collapsed": true
   },
   "outputs": [],
   "source": [
    "# for file_name in ot_data.keys():\n",
    "#     ot_data[file_name].drop(['Year','year'], axis=1, inplace=True)"
   ]
  },
  {
   "cell_type": "code",
   "execution_count": 89,
   "metadata": {
    "collapsed": false
   },
   "outputs": [],
   "source": [
    "for file_name in ot_data.keys():\n",
    "    ot_data[file_name]['year'] = datetime.strptime('12/31/'+ str(file_name[-4:]), '%m/%d/%Y')"
   ]
  },
  {
   "cell_type": "markdown",
   "metadata": {},
   "source": [
    "### Create DB + Add our data"
   ]
  },
  {
   "cell_type": "code",
   "execution_count": 90,
   "metadata": {
    "collapsed": true
   },
   "outputs": [],
   "source": [
    "def create_db(db_path):\n",
    "    '''Bad function design'''\n",
    "    con = sqlite3.connect(db_path)\n",
    "    cur = con.cursor()\n",
    "    try:    \n",
    "        cur.execute(\"DROP TABLE IF EXISTS ot\")#drop if already exists tables in DB\n",
    "        cur.execute(\"\"\"CREATE TABLE ot\n",
    "           (dept_name text, emp_name text, title text, jan numeric, feb numeric,\n",
    "       mar numeric, apr numeric, may numeric, jun numeric,jul numeric, aug numeric, sep numeric,\n",
    "       oct numeric, nov numeric, dec numeric, total numeric, year text)\n",
    "        \"\"\")\n",
    "    except Exception as e:\n",
    "        print(e)\n",
    "    con.commit()\n",
    "    con.close()"
   ]
  },
  {
   "cell_type": "markdown",
   "metadata": {},
   "source": [
    "Need consistent column names for all the pandas dataframes.  We'll be pushing dataframes directly to sqlite.\n"
   ]
  },
  {
   "cell_type": "code",
   "execution_count": 91,
   "metadata": {
    "collapsed": true
   },
   "outputs": [],
   "source": [
    "table_cols = ['dept_name' , 'emp_name', 'title' , 'jan' , 'feb' ,'mar' , 'apr' , 'may' , 'jun' ,'jul' , 'aug' , 'sep' , 'oct' , 'nov' , 'dec' , 'total' , 'year']"
   ]
  },
  {
   "cell_type": "code",
   "execution_count": 92,
   "metadata": {
    "collapsed": false
   },
   "outputs": [],
   "source": [
    "db_path = 'chicago_data.db'\n",
    "create_db(db_path)"
   ]
  },
  {
   "cell_type": "code",
   "execution_count": 93,
   "metadata": {
    "collapsed": true
   },
   "outputs": [],
   "source": [
    "con = sqlite3.connect(db_path)#Create database to store movie and rating info for easy storage and querying\n",
    "cur = con.cursor()"
   ]
  },
  {
   "cell_type": "markdown",
   "metadata": {},
   "source": [
    "#### One last check on the data before adding to DB"
   ]
  },
  {
   "cell_type": "code",
   "execution_count": 94,
   "metadata": {
    "collapsed": false,
    "scrolled": false
   },
   "outputs": [
    {
     "data": {
      "text/html": [
       "<div>\n",
       "<table border=\"1\" class=\"dataframe\">\n",
       "  <thead>\n",
       "    <tr style=\"text-align: right;\">\n",
       "      <th></th>\n",
       "      <th>dept_name</th>\n",
       "      <th>emp_name</th>\n",
       "      <th>title</th>\n",
       "      <th>jan</th>\n",
       "      <th>feb</th>\n",
       "      <th>mar</th>\n",
       "      <th>apr</th>\n",
       "      <th>may</th>\n",
       "      <th>jun</th>\n",
       "      <th>jul</th>\n",
       "      <th>aug</th>\n",
       "      <th>sep</th>\n",
       "      <th>oct</th>\n",
       "      <th>nov</th>\n",
       "      <th>dec</th>\n",
       "      <th>total</th>\n",
       "      <th>year</th>\n",
       "    </tr>\n",
       "  </thead>\n",
       "  <tbody>\n",
       "    <tr>\n",
       "      <th>0</th>\n",
       "      <td>Administrative Hearings</td>\n",
       "      <td>WOODRIDGE RACHENETTE</td>\n",
       "      <td>ADMINISTRATIVE ASST II</td>\n",
       "      <td>0.0</td>\n",
       "      <td>0.0</td>\n",
       "      <td>0.0</td>\n",
       "      <td>0.0</td>\n",
       "      <td>0.0</td>\n",
       "      <td>0.0</td>\n",
       "      <td>0.0</td>\n",
       "      <td>0.0</td>\n",
       "      <td>0.0</td>\n",
       "      <td>0.0</td>\n",
       "      <td>445.0</td>\n",
       "      <td>0.0</td>\n",
       "      <td>445.0</td>\n",
       "      <td>2012-12-31</td>\n",
       "    </tr>\n",
       "    <tr>\n",
       "      <th>1</th>\n",
       "      <td>Animal Care and Control</td>\n",
       "      <td>HOLLOWAY EFREM J</td>\n",
       "      <td>ANIMAL CARE AIDE II</td>\n",
       "      <td>278.0</td>\n",
       "      <td>670.0</td>\n",
       "      <td>1040.0</td>\n",
       "      <td>0.0</td>\n",
       "      <td>0.0</td>\n",
       "      <td>0.0</td>\n",
       "      <td>0.0</td>\n",
       "      <td>0.0</td>\n",
       "      <td>0.0</td>\n",
       "      <td>0.0</td>\n",
       "      <td>0.0</td>\n",
       "      <td>287.0</td>\n",
       "      <td>2275.0</td>\n",
       "      <td>2012-12-31</td>\n",
       "    </tr>\n",
       "    <tr>\n",
       "      <th>2</th>\n",
       "      <td>Animal Care and Control</td>\n",
       "      <td>EDGECOMBE CHERYL K</td>\n",
       "      <td>ANIMAL CONTROL OFFICER</td>\n",
       "      <td>404.0</td>\n",
       "      <td>0.0</td>\n",
       "      <td>771.0</td>\n",
       "      <td>0.0</td>\n",
       "      <td>147.0</td>\n",
       "      <td>637.0</td>\n",
       "      <td>1114.0</td>\n",
       "      <td>478.0</td>\n",
       "      <td>257.0</td>\n",
       "      <td>539.0</td>\n",
       "      <td>257.0</td>\n",
       "      <td>514.0</td>\n",
       "      <td>5118.0</td>\n",
       "      <td>2012-12-31</td>\n",
       "    </tr>\n",
       "    <tr>\n",
       "      <th>3</th>\n",
       "      <td>Animal Care and Control</td>\n",
       "      <td>RUGLIC MARY S</td>\n",
       "      <td>ANIMAL CONTROL OFFICER</td>\n",
       "      <td>0.0</td>\n",
       "      <td>147.0</td>\n",
       "      <td>0.0</td>\n",
       "      <td>0.0</td>\n",
       "      <td>0.0</td>\n",
       "      <td>0.0</td>\n",
       "      <td>0.0</td>\n",
       "      <td>0.0</td>\n",
       "      <td>0.0</td>\n",
       "      <td>0.0</td>\n",
       "      <td>0.0</td>\n",
       "      <td>0.0</td>\n",
       "      <td>147.0</td>\n",
       "      <td>2012-12-31</td>\n",
       "    </tr>\n",
       "    <tr>\n",
       "      <th>4</th>\n",
       "      <td>Animal Care and Control</td>\n",
       "      <td>WASHINGTON MONTESE DAJUAN</td>\n",
       "      <td>VETERINARY ASST</td>\n",
       "      <td>575.0</td>\n",
       "      <td>780.0</td>\n",
       "      <td>1135.0</td>\n",
       "      <td>492.0</td>\n",
       "      <td>657.0</td>\n",
       "      <td>913.0</td>\n",
       "      <td>1552.0</td>\n",
       "      <td>821.0</td>\n",
       "      <td>780.0</td>\n",
       "      <td>954.0</td>\n",
       "      <td>855.0</td>\n",
       "      <td>472.0</td>\n",
       "      <td>9985.0</td>\n",
       "      <td>2012-12-31</td>\n",
       "    </tr>\n",
       "  </tbody>\n",
       "</table>\n",
       "</div>"
      ],
      "text/plain": [
       "                 dept_name                   emp_name                   title  \\\n",
       "0  Administrative Hearings       WOODRIDGE RACHENETTE  ADMINISTRATIVE ASST II   \n",
       "1  Animal Care and Control           HOLLOWAY EFREM J     ANIMAL CARE AIDE II   \n",
       "2  Animal Care and Control         EDGECOMBE CHERYL K  ANIMAL CONTROL OFFICER   \n",
       "3  Animal Care and Control              RUGLIC MARY S  ANIMAL CONTROL OFFICER   \n",
       "4  Animal Care and Control  WASHINGTON MONTESE DAJUAN         VETERINARY ASST   \n",
       "\n",
       "     jan    feb     mar    apr    may    jun     jul    aug    sep    oct  \\\n",
       "0    0.0    0.0     0.0    0.0    0.0    0.0     0.0    0.0    0.0    0.0   \n",
       "1  278.0  670.0  1040.0    0.0    0.0    0.0     0.0    0.0    0.0    0.0   \n",
       "2  404.0    0.0   771.0    0.0  147.0  637.0  1114.0  478.0  257.0  539.0   \n",
       "3    0.0  147.0     0.0    0.0    0.0    0.0     0.0    0.0    0.0    0.0   \n",
       "4  575.0  780.0  1135.0  492.0  657.0  913.0  1552.0  821.0  780.0  954.0   \n",
       "\n",
       "     nov    dec   total       year  \n",
       "0  445.0    0.0   445.0 2012-12-31  \n",
       "1    0.0  287.0  2275.0 2012-12-31  \n",
       "2  257.0  514.0  5118.0 2012-12-31  \n",
       "3    0.0    0.0   147.0 2012-12-31  \n",
       "4  855.0  472.0  9985.0 2012-12-31  "
      ]
     },
     "execution_count": 94,
     "metadata": {},
     "output_type": "execute_result"
    }
   ],
   "source": [
    "ot_data['ot_2012'].head()"
   ]
  },
  {
   "cell_type": "markdown",
   "metadata": {},
   "source": [
    "#### Loop through my dictionary keys, using:    `Pandas.DataFrame.to_sql(table_name, connection, ...)`"
   ]
  },
  {
   "cell_type": "code",
   "execution_count": 95,
   "metadata": {
    "collapsed": false,
    "scrolled": true
   },
   "outputs": [],
   "source": [
    "for file_name in ot_data.keys():\n",
    "    ot_data[file_name].columns = table_cols\n",
    "    ot_data[file_name].to_sql('ot', con, if_exists='append', index=False)"
   ]
  },
  {
   "cell_type": "code",
   "execution_count": 96,
   "metadata": {
    "collapsed": false
   },
   "outputs": [
    {
     "data": {
      "text/plain": [
       "<sqlite3.Cursor at 0x116f871f0>"
      ]
     },
     "execution_count": 96,
     "metadata": {},
     "output_type": "execute_result"
    }
   ],
   "source": [
    "cur.execute(\"\"\"SELECT COUNT(*) FROM ot\"\"\")"
   ]
  },
  {
   "cell_type": "code",
   "execution_count": 97,
   "metadata": {
    "collapsed": false
   },
   "outputs": [
    {
     "data": {
      "text/plain": [
       "[(121097,)]"
      ]
     },
     "execution_count": 97,
     "metadata": {},
     "output_type": "execute_result"
    }
   ],
   "source": [
    "cur.fetchall()"
   ]
  },
  {
   "cell_type": "markdown",
   "metadata": {},
   "source": [
    "### 'ot' Table Column Names:\n",
    "\n",
    "- 'dept_name'\n",
    "- 'emp_name'\n",
    "- 'title'\n",
    "- 'jan'\n",
    "- 'feb'\n",
    "- 'mar'\n",
    "- 'apr'\n",
    "- 'may'\n",
    "- 'jun'\n",
    "- 'jul'\n",
    "- 'aug' \n",
    "- 'sep'\n",
    "- 'oct'\n",
    "- 'nov'\n",
    "- 'dec'\n",
    "- 'total' \n",
    "- 'year'"
   ]
  },
  {
   "cell_type": "code",
   "execution_count": 28,
   "metadata": {
    "collapsed": false
   },
   "outputs": [
    {
     "data": {
      "text/plain": [
       "<sqlite3.Cursor at 0x113d733b0>"
      ]
     },
     "execution_count": 28,
     "metadata": {},
     "output_type": "execute_result"
    }
   ],
   "source": [
    "cur.execute(\"\"\"SELECT total, year \n",
    "                FROM ot\n",
    "                GROUP BY year\"\"\")"
   ]
  },
  {
   "cell_type": "code",
   "execution_count": 29,
   "metadata": {
    "collapsed": true
   },
   "outputs": [],
   "source": [
    "q = \"\"\"SELECT total, year \n",
    "                FROM ot\n",
    "                GROUP BY year\"\"\""
   ]
  },
  {
   "cell_type": "code",
   "execution_count": 30,
   "metadata": {
    "collapsed": true
   },
   "outputs": [],
   "source": [
    "df = pd.read_sql(q,con)"
   ]
  },
  {
   "cell_type": "code",
   "execution_count": 31,
   "metadata": {
    "collapsed": false
   },
   "outputs": [
    {
     "data": {
      "text/html": [
       "<div>\n",
       "<table border=\"1\" class=\"dataframe\">\n",
       "  <thead>\n",
       "    <tr style=\"text-align: right;\">\n",
       "      <th></th>\n",
       "      <th>total</th>\n",
       "      <th>year</th>\n",
       "    </tr>\n",
       "  </thead>\n",
       "  <tbody>\n",
       "    <tr>\n",
       "      <th>0</th>\n",
       "      <td>15554.00</td>\n",
       "      <td>2012</td>\n",
       "    </tr>\n",
       "    <tr>\n",
       "      <th>1</th>\n",
       "      <td>609.30</td>\n",
       "      <td>2013</td>\n",
       "    </tr>\n",
       "    <tr>\n",
       "      <th>2</th>\n",
       "      <td>50211.49</td>\n",
       "      <td>2014</td>\n",
       "    </tr>\n",
       "    <tr>\n",
       "      <th>3</th>\n",
       "      <td>22773.31</td>\n",
       "      <td>2015</td>\n",
       "    </tr>\n",
       "    <tr>\n",
       "      <th>4</th>\n",
       "      <td>25249.60</td>\n",
       "      <td>2016</td>\n",
       "    </tr>\n",
       "  </tbody>\n",
       "</table>\n",
       "</div>"
      ],
      "text/plain": [
       "      total  year\n",
       "0  15554.00  2012\n",
       "1    609.30  2013\n",
       "2  50211.49  2014\n",
       "3  22773.31  2015\n",
       "4  25249.60  2016"
      ]
     },
     "execution_count": 31,
     "metadata": {},
     "output_type": "execute_result"
    }
   ],
   "source": [
    "df.head()"
   ]
  },
  {
   "cell_type": "code",
   "execution_count": 32,
   "metadata": {
    "collapsed": false
   },
   "outputs": [],
   "source": [
    "cur.close()"
   ]
  },
  {
   "cell_type": "markdown",
   "metadata": {},
   "source": [
    "Dollar values are looking like strings, we'll need to fix that.  I also don't care about about names for now, more concerned with Department Name.  Title could be interesting for other analysis but lets start with analysis grouped by Department."
   ]
  },
  {
   "cell_type": "markdown",
   "metadata": {},
   "source": [
    "---\n",
    "\n",
    "# Crime Data - check schema\n",
    "---"
   ]
  },
  {
   "cell_type": "code",
   "execution_count": 33,
   "metadata": {
    "collapsed": false,
    "scrolled": true
   },
   "outputs": [
    {
     "name": "stderr",
     "output_type": "stream",
     "text": [
      "/Users/gregfilla/anaconda/lib/python2.7/site-packages/numpy/lib/function_base.py:3834: RuntimeWarning: Invalid value encountered in percentile\n",
      "  RuntimeWarning)\n"
     ]
    },
    {
     "data": {
      "text/html": [
       "<div>\n",
       "<table border=\"1\" class=\"dataframe\">\n",
       "  <thead>\n",
       "    <tr style=\"text-align: right;\">\n",
       "      <th></th>\n",
       "      <th>ID</th>\n",
       "      <th>Beat</th>\n",
       "      <th>District</th>\n",
       "      <th>Ward</th>\n",
       "      <th>X Coordinate</th>\n",
       "      <th>Community Area</th>\n",
       "      <th>Y Coordinate</th>\n",
       "      <th>Year</th>\n",
       "      <th>Latitude</th>\n",
       "      <th>Longitude</th>\n",
       "    </tr>\n",
       "  </thead>\n",
       "  <tbody>\n",
       "    <tr>\n",
       "      <th>count</th>\n",
       "      <td>3.357380e+05</td>\n",
       "      <td>335738.000000</td>\n",
       "      <td>335738.000000</td>\n",
       "      <td>335731.000000</td>\n",
       "      <td>3.347490e+05</td>\n",
       "      <td>335712.000000</td>\n",
       "      <td>3.347490e+05</td>\n",
       "      <td>335738.0</td>\n",
       "      <td>334749.000000</td>\n",
       "      <td>334749.000000</td>\n",
       "    </tr>\n",
       "    <tr>\n",
       "      <th>mean</th>\n",
       "      <td>8.684269e+06</td>\n",
       "      <td>1164.185115</td>\n",
       "      <td>11.334130</td>\n",
       "      <td>22.834299</td>\n",
       "      <td>1.164500e+06</td>\n",
       "      <td>37.601974</td>\n",
       "      <td>1.885368e+06</td>\n",
       "      <td>2012.0</td>\n",
       "      <td>41.841044</td>\n",
       "      <td>-87.671861</td>\n",
       "    </tr>\n",
       "    <tr>\n",
       "      <th>std</th>\n",
       "      <td>3.781077e+05</td>\n",
       "      <td>694.436440</td>\n",
       "      <td>6.918046</td>\n",
       "      <td>13.784707</td>\n",
       "      <td>1.882923e+04</td>\n",
       "      <td>21.562858</td>\n",
       "      <td>3.503073e+04</td>\n",
       "      <td>0.0</td>\n",
       "      <td>0.096473</td>\n",
       "      <td>0.067633</td>\n",
       "    </tr>\n",
       "    <tr>\n",
       "      <th>min</th>\n",
       "      <td>2.022400e+04</td>\n",
       "      <td>111.000000</td>\n",
       "      <td>1.000000</td>\n",
       "      <td>1.000000</td>\n",
       "      <td>0.000000e+00</td>\n",
       "      <td>0.000000</td>\n",
       "      <td>0.000000e+00</td>\n",
       "      <td>2012.0</td>\n",
       "      <td>36.619446</td>\n",
       "      <td>-91.686566</td>\n",
       "    </tr>\n",
       "    <tr>\n",
       "      <th>25%</th>\n",
       "      <td>8.560693e+06</td>\n",
       "      <td>614.000000</td>\n",
       "      <td>6.000000</td>\n",
       "      <td>NaN</td>\n",
       "      <td>NaN</td>\n",
       "      <td>NaN</td>\n",
       "      <td>NaN</td>\n",
       "      <td>2012.0</td>\n",
       "      <td>NaN</td>\n",
       "      <td>NaN</td>\n",
       "    </tr>\n",
       "    <tr>\n",
       "      <th>50%</th>\n",
       "      <td>8.692700e+06</td>\n",
       "      <td>1024.000000</td>\n",
       "      <td>10.000000</td>\n",
       "      <td>NaN</td>\n",
       "      <td>NaN</td>\n",
       "      <td>NaN</td>\n",
       "      <td>NaN</td>\n",
       "      <td>2012.0</td>\n",
       "      <td>NaN</td>\n",
       "      <td>NaN</td>\n",
       "    </tr>\n",
       "    <tr>\n",
       "      <th>75%</th>\n",
       "      <td>8.825174e+06</td>\n",
       "      <td>1722.000000</td>\n",
       "      <td>17.000000</td>\n",
       "      <td>NaN</td>\n",
       "      <td>NaN</td>\n",
       "      <td>NaN</td>\n",
       "      <td>NaN</td>\n",
       "      <td>2012.0</td>\n",
       "      <td>NaN</td>\n",
       "      <td>NaN</td>\n",
       "    </tr>\n",
       "    <tr>\n",
       "      <th>max</th>\n",
       "      <td>1.095699e+07</td>\n",
       "      <td>2535.000000</td>\n",
       "      <td>31.000000</td>\n",
       "      <td>50.000000</td>\n",
       "      <td>1.205119e+06</td>\n",
       "      <td>77.000000</td>\n",
       "      <td>1.951527e+06</td>\n",
       "      <td>2012.0</td>\n",
       "      <td>42.022586</td>\n",
       "      <td>-87.524529</td>\n",
       "    </tr>\n",
       "  </tbody>\n",
       "</table>\n",
       "</div>"
      ],
      "text/plain": [
       "                 ID           Beat       District           Ward  \\\n",
       "count  3.357380e+05  335738.000000  335738.000000  335731.000000   \n",
       "mean   8.684269e+06    1164.185115      11.334130      22.834299   \n",
       "std    3.781077e+05     694.436440       6.918046      13.784707   \n",
       "min    2.022400e+04     111.000000       1.000000       1.000000   \n",
       "25%    8.560693e+06     614.000000       6.000000            NaN   \n",
       "50%    8.692700e+06    1024.000000      10.000000            NaN   \n",
       "75%    8.825174e+06    1722.000000      17.000000            NaN   \n",
       "max    1.095699e+07    2535.000000      31.000000      50.000000   \n",
       "\n",
       "       X Coordinate  Community Area  Y Coordinate      Year       Latitude  \\\n",
       "count  3.347490e+05   335712.000000  3.347490e+05  335738.0  334749.000000   \n",
       "mean   1.164500e+06       37.601974  1.885368e+06    2012.0      41.841044   \n",
       "std    1.882923e+04       21.562858  3.503073e+04       0.0       0.096473   \n",
       "min    0.000000e+00        0.000000  0.000000e+00    2012.0      36.619446   \n",
       "25%             NaN             NaN           NaN    2012.0            NaN   \n",
       "50%             NaN             NaN           NaN    2012.0            NaN   \n",
       "75%             NaN             NaN           NaN    2012.0            NaN   \n",
       "max    1.205119e+06       77.000000  1.951527e+06    2012.0      42.022586   \n",
       "\n",
       "           Longitude  \n",
       "count  334749.000000  \n",
       "mean      -87.671861  \n",
       "std         0.067633  \n",
       "min       -91.686566  \n",
       "25%              NaN  \n",
       "50%              NaN  \n",
       "75%              NaN  \n",
       "max       -87.524529  "
      ]
     },
     "execution_count": 33,
     "metadata": {},
     "output_type": "execute_result"
    }
   ],
   "source": [
    "crime_data['crime_2012'].describe()"
   ]
  },
  {
   "cell_type": "code",
   "execution_count": 34,
   "metadata": {
    "collapsed": false,
    "scrolled": false
   },
   "outputs": [
    {
     "name": "stdout",
     "output_type": "stream",
     "text": [
      "(335738, 22)\n",
      "(306761, 22)\n",
      "(267453, 22)\n",
      "(274666, 22)\n",
      "(263231, 22)\n"
     ]
    }
   ],
   "source": [
    "for file_name in crime_data.keys():\n",
    "    print( crime_data[file_name].shape)   "
   ]
  },
  {
   "cell_type": "code",
   "execution_count": 99,
   "metadata": {
    "collapsed": false
   },
   "outputs": [
    {
     "data": {
      "text/plain": [
       "Index([u'ID', u'Case_Number', u'Date', u'Block', u'IUCR', u'Primary_Type',\n",
       "       u'Description', u'Location_Description', u'Arrest', u'Domestic',\n",
       "       u'Beat', u'District', u'Ward', u'Community_Area', u'FBI_Code',\n",
       "       u'X_Coordinate', u'Y_Coordinate', u'Year', u'Updated_On', u'Latitude',\n",
       "       u'Longitude', u'Location'],\n",
       "      dtype='object')"
      ]
     },
     "execution_count": 99,
     "metadata": {},
     "output_type": "execute_result"
    }
   ],
   "source": [
    "crime_data['crime_2012'].columns"
   ]
  },
  {
   "cell_type": "code",
   "execution_count": 101,
   "metadata": {
    "collapsed": false,
    "scrolled": true
   },
   "outputs": [
    {
     "data": {
      "text/plain": [
       "0    05/01/2012 12:00:00 PM\n",
       "1    06/01/2012 04:50:00 PM\n",
       "2    11/01/2012 10:05:00 PM\n",
       "3    01/01/2012 12:01:00 AM\n",
       "4    11/01/2012 12:00:00 AM\n",
       "5    06/16/2012 04:30:00 AM\n",
       "6    11/21/2012 07:30:00 AM\n",
       "7    05/18/2012 06:38:00 AM\n",
       "8    03/26/2012 06:15:00 PM\n",
       "9    08/07/2012 01:40:00 PM\n",
       "Name: Date, dtype: object"
      ]
     },
     "execution_count": 101,
     "metadata": {},
     "output_type": "execute_result"
    }
   ],
   "source": [
    "crime_data['crime_2012']['Date'][:10]"
   ]
  },
  {
   "cell_type": "markdown",
   "metadata": {},
   "source": [
    "### Add a column for the year for storage"
   ]
  },
  {
   "cell_type": "code",
   "execution_count": 37,
   "metadata": {
    "collapsed": false
   },
   "outputs": [],
   "source": [
    "for file_name in crime_data.keys():\n",
    "    crime_data[file_name]['Year'] = int(file_name[-4:])"
   ]
  },
  {
   "cell_type": "code",
   "execution_count": null,
   "metadata": {
    "collapsed": true
   },
   "outputs": [],
   "source": []
  },
  {
   "cell_type": "code",
   "execution_count": 38,
   "metadata": {
    "collapsed": false
   },
   "outputs": [
    {
     "data": {
      "text/plain": [
       "['crime_2012', 'crime_2013', 'crime_2016', 'crime_2014', 'crime_2015']"
      ]
     },
     "execution_count": 38,
     "metadata": {},
     "output_type": "execute_result"
    }
   ],
   "source": [
    "crime_data.keys()"
   ]
  },
  {
   "cell_type": "code",
   "execution_count": 39,
   "metadata": {
    "collapsed": false
   },
   "outputs": [
    {
     "data": {
      "text/plain": [
       "(306761, 22)"
      ]
     },
     "execution_count": 39,
     "metadata": {},
     "output_type": "execute_result"
    }
   ],
   "source": [
    "crime_data['crime_2013'].shape"
   ]
  },
  {
   "cell_type": "code",
   "execution_count": 40,
   "metadata": {
    "collapsed": true
   },
   "outputs": [],
   "source": [
    "def create_db(db_path):\n",
    "    con = sqlite3.connect(db_path)#Create database to store movie and rating info for easy storage and querying\n",
    "    cur = con.cursor()\n",
    "    try:    \n",
    "        cur.execute(\"DROP TABLE IF EXISTS crime\")#drop if already exists tables in DB\n",
    "        cur.execute(\"\"\"CREATE TABLE crime\n",
    "       \n",
    "                   ( ID                        integer,\n",
    "                    Case_Number              text,\n",
    "                    Date                     DATETIME,\n",
    "                    Block                    text,\n",
    "                    IUCR                     text,\n",
    "                    Primary_Type             text,\n",
    "                    Description              text,\n",
    "                    Location_Description     text,\n",
    "                    Arrest                     bool,\n",
    "                    Domestic                   bool,\n",
    "                    Beat                      integer,\n",
    "                    District                numeric,\n",
    "                    Ward                    numeric,\n",
    "                    Community_Area          numeric,\n",
    "                    FBI_Code                 object,\n",
    "                    X_Coordinate            numeric,\n",
    "                    Y_Coordinate            numeric,\n",
    "                    Year                      integer,\n",
    "                    Updated_On               object,\n",
    "                    Latitude                numeric,\n",
    "                    Longitude               numeric,\n",
    "                    Location                 text\n",
    "\n",
    "                   )\n",
    "       \n",
    "        \"\"\")\n",
    "    except Exception as e:\n",
    "        print(e)\n",
    "    con.commit()\n",
    "    con.close()"
   ]
  },
  {
   "cell_type": "code",
   "execution_count": 41,
   "metadata": {
    "collapsed": false
   },
   "outputs": [],
   "source": [
    "table_cols = [  'ID',\n",
    "                'Case_Number'              ,\n",
    "                'Date'                     ,\n",
    "                'Block'                    ,\n",
    "                'IUCR'                     ,\n",
    "                'Primary_Type'             ,\n",
    "                'Description'              ,\n",
    "                'Location_Description'     ,\n",
    "                'Arrest'                     ,\n",
    "                'Domestic'                   ,\n",
    "                'Beat'                      ,\n",
    "                'District'                ,\n",
    "                'Ward'                    ,\n",
    "                'Community_Area'          ,\n",
    "                'FBI_Code'                 ,\n",
    "                'X_Coordinate'            ,\n",
    "                'Y_Coordinate'            ,\n",
    "                'Year'                      ,\n",
    "                'Updated_On'               ,\n",
    "                'Latitude'                ,\n",
    "                'Longitude'               ,\n",
    "                'Location' ]\n",
    "\n",
    "#table_cols = ['dept_name' , 'emp_name', 'title' , 'jan' , 'feb' ,'mar' , 'apr' , 'may' , 'jun' ,'jul' , 'aug' , 'sep' , 'oct' , 'nov' , 'dec' , 'total' , 'year']"
   ]
  },
  {
   "cell_type": "code",
   "execution_count": 42,
   "metadata": {
    "collapsed": false
   },
   "outputs": [
    {
     "data": {
      "text/plain": [
       "22"
      ]
     },
     "execution_count": 42,
     "metadata": {},
     "output_type": "execute_result"
    }
   ],
   "source": [
    "len(table_cols)"
   ]
  },
  {
   "cell_type": "code",
   "execution_count": 44,
   "metadata": {
    "collapsed": false
   },
   "outputs": [],
   "source": [
    "db_path = 'chicago_data.db'\n",
    "create_db(db_path)"
   ]
  },
  {
   "cell_type": "code",
   "execution_count": 46,
   "metadata": {
    "collapsed": false,
    "scrolled": true
   },
   "outputs": [],
   "source": [
    "con = sqlite3.connect(db_path)#Create database to store movie and rating info for easy storage and querying\n",
    "cur = con.cursor()\n",
    "\n",
    "for file_name in crime_data.keys():\n",
    "    try: \n",
    "        crime_data[file_name].columns = table_cols\n",
    "    except:\n",
    "        print(file_name)\n",
    "    crime_data[file_name].to_sql('crime', con, if_exists='append', index=False)"
   ]
  },
  {
   "cell_type": "markdown",
   "metadata": {},
   "source": [
    "Testing"
   ]
  },
  {
   "cell_type": "code",
   "execution_count": 64,
   "metadata": {
    "collapsed": true
   },
   "outputs": [],
   "source": [
    "con = sqlite3.connect(db_path)#Create database to store movie and rating info for easy storage and querying\n",
    "cur = con.cursor()"
   ]
  },
  {
   "cell_type": "code",
   "execution_count": 69,
   "metadata": {
    "collapsed": false,
    "scrolled": true
   },
   "outputs": [
    {
     "data": {
      "text/plain": [
       "<sqlite3.Cursor at 0x116f7cab0>"
      ]
     },
     "execution_count": 69,
     "metadata": {},
     "output_type": "execute_result"
    }
   ],
   "source": [
    "cur.execute(\"\"\"SELECT COUNT(*) FROM ot\"\"\")"
   ]
  },
  {
   "cell_type": "code",
   "execution_count": 70,
   "metadata": {
    "collapsed": false,
    "scrolled": true
   },
   "outputs": [
    {
     "data": {
      "text/plain": [
       "[(121097,)]"
      ]
     },
     "execution_count": 70,
     "metadata": {},
     "output_type": "execute_result"
    }
   ],
   "source": [
    "cur.fetchall()"
   ]
  },
  {
   "cell_type": "code",
   "execution_count": 68,
   "metadata": {
    "collapsed": false
   },
   "outputs": [
    {
     "name": "stdout",
     "output_type": "stream",
     "text": [
      "[(0, u'dept_name', u'text', 0, None, 0), (1, u'emp_name', u'text', 0, None, 0), (2, u'title', u'text', 0, None, 0), (3, u'jan', u'numeric', 0, None, 0), (4, u'feb', u'numeric', 0, None, 0), (5, u'mar', u'numeric', 0, None, 0), (6, u'apr', u'numeric', 0, None, 0), (7, u'may', u'numeric', 0, None, 0), (8, u'jun', u'numeric', 0, None, 0), (9, u'jul', u'numeric', 0, None, 0), (10, u'aug', u'numeric', 0, None, 0), (11, u'sep', u'numeric', 0, None, 0), (12, u'oct', u'numeric', 0, None, 0), (13, u'nov', u'numeric', 0, None, 0), (14, u'dec', u'numeric', 0, None, 0), (15, u'total', u'numeric', 0, None, 0), (16, u'year', u'integer', 0, None, 0)]\n"
     ]
    }
   ],
   "source": [
    "cur.execute(\"PRAGMA table_info(ot);\")\n",
    "print(cur.fetchall())\n"
   ]
  },
  {
   "cell_type": "code",
   "execution_count": 67,
   "metadata": {
    "collapsed": false
   },
   "outputs": [
    {
     "name": "stdout",
     "output_type": "stream",
     "text": [
      "[(u'ot',), (u'crime',)]\n"
     ]
    }
   ],
   "source": [
    "cur.execute(\"SELECT name FROM sqlite_master WHERE type='table';\")\n",
    "print(cur.fetchall())"
   ]
  },
  {
   "cell_type": "code",
   "execution_count": 71,
   "metadata": {
    "collapsed": true
   },
   "outputs": [],
   "source": [
    "cur.close()\n",
    "con.close()"
   ]
  },
  {
   "cell_type": "markdown",
   "metadata": {},
   "source": [
    "- 'dept_name'\n",
    "- 'emp_name'\n",
    "- 'title'\n",
    "- 'jan'\n",
    "- 'feb'\n",
    "- 'mar'\n",
    "- 'apr'\n",
    "- 'may'\n",
    "- 'jun'\n",
    "- 'jul'\n",
    "- 'aug' \n",
    "- 'sep'\n",
    "- 'oct'\n",
    "- 'nov'\n",
    "- 'dec'\n",
    "- 'total' \n",
    "- 'year'"
   ]
  },
  {
   "cell_type": "code",
   "execution_count": 55,
   "metadata": {
    "collapsed": false
   },
   "outputs": [],
   "source": [
    "f = cur.execute(\"\"\"SELECT total, year \n",
    "                FROM ot\n",
    "                GROUP BY year\"\"\")"
   ]
  },
  {
   "cell_type": "code",
   "execution_count": 50,
   "metadata": {
    "collapsed": true
   },
   "outputs": [],
   "source": [
    "q = \"\"\"SELECT total, year \n",
    "                FROM ot\n",
    "                GROUP BY year\"\"\""
   ]
  },
  {
   "cell_type": "code",
   "execution_count": 56,
   "metadata": {
    "collapsed": false
   },
   "outputs": [
    {
     "data": {
      "text/plain": [
       "[(15554, 2012),\n",
       " (609.3, 2013),\n",
       " (50211.49, 2014),\n",
       " (22773.31, 2015),\n",
       " (25249.6, 2016)]"
      ]
     },
     "execution_count": 56,
     "metadata": {},
     "output_type": "execute_result"
    }
   ],
   "source": [
    "f.fetchall()"
   ]
  },
  {
   "cell_type": "code",
   "execution_count": 57,
   "metadata": {
    "collapsed": true
   },
   "outputs": [],
   "source": [
    "cur.close()"
   ]
  },
  {
   "cell_type": "code",
   "execution_count": 54,
   "metadata": {
    "collapsed": false,
    "scrolled": true
   },
   "outputs": [
    {
     "data": {
      "text/plain": [
       "'SELECT total, year \\n                FROM ot\\n                GROUP BY year'"
      ]
     },
     "execution_count": 54,
     "metadata": {},
     "output_type": "execute_result"
    }
   ],
   "source": [
    "q"
   ]
  },
  {
   "cell_type": "code",
   "execution_count": 51,
   "metadata": {
    "collapsed": true
   },
   "outputs": [],
   "source": [
    "df = pd.read_sql(q,con)"
   ]
  },
  {
   "cell_type": "code",
   "execution_count": 52,
   "metadata": {
    "collapsed": false
   },
   "outputs": [
    {
     "data": {
      "text/html": [
       "<div>\n",
       "<table border=\"1\" class=\"dataframe\">\n",
       "  <thead>\n",
       "    <tr style=\"text-align: right;\">\n",
       "      <th></th>\n",
       "      <th>total</th>\n",
       "      <th>year</th>\n",
       "    </tr>\n",
       "  </thead>\n",
       "  <tbody>\n",
       "    <tr>\n",
       "      <th>0</th>\n",
       "      <td>15554.00</td>\n",
       "      <td>2012</td>\n",
       "    </tr>\n",
       "    <tr>\n",
       "      <th>1</th>\n",
       "      <td>609.30</td>\n",
       "      <td>2013</td>\n",
       "    </tr>\n",
       "    <tr>\n",
       "      <th>2</th>\n",
       "      <td>50211.49</td>\n",
       "      <td>2014</td>\n",
       "    </tr>\n",
       "    <tr>\n",
       "      <th>3</th>\n",
       "      <td>22773.31</td>\n",
       "      <td>2015</td>\n",
       "    </tr>\n",
       "    <tr>\n",
       "      <th>4</th>\n",
       "      <td>25249.60</td>\n",
       "      <td>2016</td>\n",
       "    </tr>\n",
       "  </tbody>\n",
       "</table>\n",
       "</div>"
      ],
      "text/plain": [
       "      total  year\n",
       "0  15554.00  2012\n",
       "1    609.30  2013\n",
       "2  50211.49  2014\n",
       "3  22773.31  2015\n",
       "4  25249.60  2016"
      ]
     },
     "execution_count": 52,
     "metadata": {},
     "output_type": "execute_result"
    }
   ],
   "source": [
    "df.head()"
   ]
  },
  {
   "cell_type": "code",
   "execution_count": 53,
   "metadata": {
    "collapsed": false
   },
   "outputs": [
    {
     "name": "stdout",
     "output_type": "stream",
     "text": [
      "335738\n",
      "306761\n",
      "267453\n",
      "274666\n",
      "263231\n"
     ]
    },
    {
     "data": {
      "text/plain": [
       "1447849"
      ]
     },
     "execution_count": 53,
     "metadata": {},
     "output_type": "execute_result"
    }
   ],
   "source": [
    "x= 0\n",
    "for i in crime_data.keys():\n",
    "    print(crime_data[i].shape[0])\n",
    "    x += crime_data[i].shape[0]\n",
    "x"
   ]
  },
  {
   "cell_type": "code",
   "execution_count": 45,
   "metadata": {
    "collapsed": false
   },
   "outputs": [],
   "source": [
    "cur.close()"
   ]
  }
 ],
 "metadata": {
  "kernelspec": {
   "display_name": "python3",
   "language": "python",
   "name": "python3"
  },
  "language_info": {
   "codemirror_mode": {
    "name": "ipython",
    "version": 2
   },
   "file_extension": ".py",
   "mimetype": "text/x-python",
   "name": "python",
   "nbconvert_exporter": "python",
   "pygments_lexer": "ipython2",
   "version": "2.7.12"
  }
 },
 "nbformat": 4,
 "nbformat_minor": 0
}
