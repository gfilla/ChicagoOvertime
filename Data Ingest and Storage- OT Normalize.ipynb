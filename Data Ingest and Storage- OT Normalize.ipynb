{
 "cells": [
  {
   "cell_type": "markdown",
   "metadata": {},
   "source": [
    "# Chicago Public Official Overtime Analysis"
   ]
  },
  {
   "cell_type": "markdown",
   "metadata": {},
   "source": [
    "This notebook pulls data from the Chicago Data Portal and persists it in a SQLite Database\n",
    "\n",
    "This work is split into an additional notebook.  This data was also analyzed with Airbnb's Superset"
   ]
  },
  {
   "cell_type": "markdown",
   "metadata": {},
   "source": [
    "### Load dependencies"
   ]
  },
  {
   "cell_type": "code",
   "execution_count": 1,
   "metadata": {
    "collapsed": true
   },
   "outputs": [],
   "source": [
    "import pandas as pd\n",
    "import sqlite3"
   ]
  },
  {
   "cell_type": "markdown",
   "metadata": {},
   "source": [
    "\n",
    "---\n",
    "\n",
    "## Data ingestion\n",
    "---"
   ]
  },
  {
   "cell_type": "markdown",
   "metadata": {},
   "source": [
    "### Download Links:"
   ]
  },
  {
   "cell_type": "code",
   "execution_count": 64,
   "metadata": {
    "collapsed": true
   },
   "outputs": [],
   "source": [
    "ot_download_links = {\n",
    "    2016:\"https://data.cityofchicago.org/api/views/tsqz-67gi/rows.csv?accessType=DOWNLOAD\",\n",
    "    2015:\"https://data.cityofchicago.org/api/views/efd5-hyfi/rows.csv?accessType=DOWNLOAD\",\n",
    "    2014:\"https://data.cityofchicago.org/api/views/9xua-tabs/rows.csv?accessType=DOWNLOAD\",\n",
    "    2013:\"https://data.cityofchicago.org/api/views/s9zb-nuc6/rows.csv?accessType=DOWNLOAD\",\n",
    "    2012:\"https://data.cityofchicago.org/api/views/92xk-4rg9/rows.csv?accessType=DOWNLOAD\"\n",
    "}"
   ]
  },
  {
   "cell_type": "markdown",
   "metadata": {},
   "source": [
    "### Download data from each url - store as Pandas DataFrames\n",
    "\n",
    "Stored as dictionary:\n",
    "\n",
    "`{df_name: DataFrame}`\n",
    "\n",
    "This is one way to work with multiple dataframes"
   ]
  },
  {
   "cell_type": "code",
   "execution_count": 65,
   "metadata": {
    "collapsed": false,
    "scrolled": true
   },
   "outputs": [
    {
     "name": "stdout",
     "output_type": "stream",
     "text": [
      "Shape of OT data for 2016: (25764, 16)\n",
      "Shape of OT data for 2012: (24270, 16)\n",
      "Shape of OT data for 2013: (22708, 16)\n",
      "Shape of OT data for 2014: (24273, 16)\n",
      "Shape of OT data for 2015: (24082, 16)\n"
     ]
    }
   ],
   "source": [
    "ot_data = {} #overtime data frames\n",
    "for year in ot_download_links.keys():\n",
    "    ot_data['ot_'+ str(year)] = pd.read_csv(ot_download_links[year])\n",
    "    print(\"Shape of OT data for \"+ str(year)+\": \" + str(ot_data['ot_'+ str(year)].shape))"
   ]
  },
  {
   "cell_type": "markdown",
   "metadata": {},
   "source": [
    "# Overtime Data \n",
    "---\n"
   ]
  },
  {
   "cell_type": "code",
   "execution_count": 66,
   "metadata": {
    "collapsed": false,
    "scrolled": true
   },
   "outputs": [
    {
     "data": {
      "text/html": [
       "<div>\n",
       "<table border=\"1\" class=\"dataframe\">\n",
       "  <thead>\n",
       "    <tr style=\"text-align: right;\">\n",
       "      <th></th>\n",
       "      <th>Department Name</th>\n",
       "      <th>Employee Name</th>\n",
       "      <th>Title</th>\n",
       "      <th>Jan 2012</th>\n",
       "      <th>Feb 2012</th>\n",
       "      <th>Mar 2012</th>\n",
       "      <th>Apr 2012</th>\n",
       "      <th>May 2012</th>\n",
       "      <th>Jun 2012</th>\n",
       "      <th>Jul 2012</th>\n",
       "      <th>Aug 2012</th>\n",
       "      <th>Sept 2012</th>\n",
       "      <th>Oct 2012</th>\n",
       "      <th>Nov 2012</th>\n",
       "      <th>Dec 2012</th>\n",
       "      <th>2012 Total</th>\n",
       "    </tr>\n",
       "  </thead>\n",
       "  <tbody>\n",
       "    <tr>\n",
       "      <th>0</th>\n",
       "      <td>Administrative Hearings</td>\n",
       "      <td>WOODRIDGE, RACHENETTE</td>\n",
       "      <td>ADMINISTRATIVE ASST II</td>\n",
       "      <td>$0.00</td>\n",
       "      <td>$0.00</td>\n",
       "      <td>$0.00</td>\n",
       "      <td>$0.00</td>\n",
       "      <td>$0.00</td>\n",
       "      <td>$0.00</td>\n",
       "      <td>$0.00</td>\n",
       "      <td>$0.00</td>\n",
       "      <td>$0.00</td>\n",
       "      <td>$0.00</td>\n",
       "      <td>$445.00</td>\n",
       "      <td>$0.00</td>\n",
       "      <td>$445.00</td>\n",
       "    </tr>\n",
       "  </tbody>\n",
       "</table>\n",
       "</div>"
      ],
      "text/plain": [
       "           Department Name          Employee Name                   Title  \\\n",
       "0  Administrative Hearings  WOODRIDGE, RACHENETTE  ADMINISTRATIVE ASST II   \n",
       "\n",
       "  Jan 2012 Feb 2012 Mar 2012 Apr 2012 May 2012 Jun 2012 Jul 2012 Aug 2012  \\\n",
       "0    $0.00    $0.00    $0.00    $0.00    $0.00    $0.00    $0.00    $0.00   \n",
       "\n",
       "  Sept 2012 Oct 2012 Nov 2012 Dec 2012 2012 Total  \n",
       "0     $0.00    $0.00  $445.00    $0.00    $445.00  "
      ]
     },
     "execution_count": 66,
     "metadata": {},
     "output_type": "execute_result"
    }
   ],
   "source": [
    "ot_data['ot_2012'].head(1)"
   ]
  },
  {
   "cell_type": "markdown",
   "metadata": {},
   "source": [
    "#### Check out headers\n",
    "\n",
    "This is the same data set from 5 years, I wanted to see if the schema was consistent.  The naming conventions changed, but the order of column values was consistent over the overs.  \n",
    "\n",
    "- If there are more years to analyze, write a function to compare column names and/or dtypes to see if schema changes over the years"
   ]
  },
  {
   "cell_type": "code",
   "execution_count": 67,
   "metadata": {
    "collapsed": false,
    "scrolled": false
   },
   "outputs": [
    {
     "name": "stdout",
     "output_type": "stream",
     "text": [
      "Index([u'Department Name', u'Employee Name', u'Title', u'Jan 2012',\n",
      "       u'Feb 2012', u'Mar 2012', u'Apr 2012', u'May 2012', u'Jun 2012',\n",
      "       u'Jul 2012', u'Aug 2012', u'Sept 2012', u'Oct 2012', u'Nov 2012',\n",
      "       u'Dec 2012', u'2012 Total'],\n",
      "      dtype='object')\n",
      "Index([u'DEPARTMENT NAME', u'EMPLOYEE NAME', u'TITLE', u'JAN 2013',\n",
      "       u'FEB 2013', u'MAR 2013', u'APR 2013', u'MAY 2013', u'JUN 2013',\n",
      "       u'JUL 2013', u'AUG 2013', u'SEP 2013', u'OCT 2013', u'NOV 2013',\n",
      "       u'DEC 2013', u'2013 TOTAL'],\n",
      "      dtype='object')\n",
      "Index([u'DEPARTMENT NAME', u'NAME', u'TITLE', u'JANUARY', u'FEBRUARY',\n",
      "       u'MARCH', u'APRIL', u'MAY', u'JUNE', u'JULY', u'AUGUST', u'SEPTEMBER',\n",
      "       u'OCTOBER', u'NOVEMBER', u'DECEMBER', u'TOTAL'],\n",
      "      dtype='object')\n",
      "Index([u'DEPARTMENT NAME', u'EMPLOYEE NAME', u'TITLE', u'JANUARY', u'FEBRARY',\n",
      "       u'MARCH', u'APRIL', u'MAY', u'JUNE', u'JULY', u'AUGUST', u'SEPTEMBER',\n",
      "       u'OCTOBER', u'NOVEMBER', u'DECEMBER', u'TOTAL'],\n",
      "      dtype='object')\n",
      "Index([u'DEPARTMENT NAME', u'EMPLOYEE NAME', u'TITLE', u'JANUARY', u'FEBRUARY',\n",
      "       u'MARCH', u'APRIL', u'MAY', u'JUNE', u'JULY', u'AUGUST', u'SEPTEMBER',\n",
      "       u'OCTOBER', u'NOVEMBER', u'DECEMBER', u'TOTAL'],\n",
      "      dtype='object')\n"
     ]
    }
   ],
   "source": [
    "for file_name in ot_data.keys():\n",
    "    print( ot_data[file_name].columns)"
   ]
  },
  {
   "cell_type": "markdown",
   "metadata": {},
   "source": [
    "### Clean data\n",
    "\n",
    "- Found the numbers were stored as strings.  \n",
    "- Convert the strings to floats, don't convert the actual string columns, print the name of the column if can't convert for some reason."
   ]
  },
  {
   "cell_type": "code",
   "execution_count": 68,
   "metadata": {
    "collapsed": true
   },
   "outputs": [],
   "source": [
    "def ot_clean(month_df):\n",
    "    for col in month_df.columns.tolist():\n",
    "        if col.upper() not in ['DEPARTMENT NAME', 'EMPLOYEE NAME', 'TITLE', 'NAME']:\n",
    "            try:\n",
    "                month_df[col] = month_df[col].str.replace(',', '')\n",
    "                month_df[col] = month_df[col].str.replace('$', '')\n",
    "                month_df[col] = month_df[col].astype(float)\n",
    "            except: \n",
    "                print(col)\n",
    "    return(month_df)"
   ]
  },
  {
   "cell_type": "code",
   "execution_count": 69,
   "metadata": {
    "collapsed": false,
    "scrolled": true
   },
   "outputs": [],
   "source": [
    "for file_name in ot_data.keys():\n",
    "    try:\n",
    "        ot_data[file_name] = ot_clean(ot_data[file_name])\n",
    "    except:\n",
    "        print (file_name)"
   ]
  },
  {
   "cell_type": "markdown",
   "metadata": {},
   "source": [
    "### Add a column for the year for storage"
   ]
  },
  {
   "cell_type": "code",
   "execution_count": 70,
   "metadata": {
    "collapsed": true
   },
   "outputs": [],
   "source": [
    "from datetime import datetime"
   ]
  },
  {
   "cell_type": "markdown",
   "metadata": {},
   "source": [
    "#### Fixing my mistake - found when investigating DB data."
   ]
  },
  {
   "cell_type": "code",
   "execution_count": 71,
   "metadata": {
    "collapsed": true
   },
   "outputs": [],
   "source": [
    "# for file_name in ot_data.keys():\n",
    "#     ot_data[file_name].drop(['Year','year'], axis=1, inplace=True)"
   ]
  },
  {
   "cell_type": "code",
   "execution_count": 72,
   "metadata": {
    "collapsed": false
   },
   "outputs": [],
   "source": [
    "for file_name in ot_data.keys():\n",
    "    ot_data[file_name]['year'] = datetime.strptime('12/31/'+ str(file_name[-4:]), '%m/%d/%Y')"
   ]
  },
  {
   "cell_type": "markdown",
   "metadata": {},
   "source": [
    "### Create DB + Add our data"
   ]
  },
  {
   "cell_type": "code",
   "execution_count": 90,
   "metadata": {
    "collapsed": true
   },
   "outputs": [],
   "source": [
    "def create_db(db_path):\n",
    "    '''Bad function design'''\n",
    "    con = sqlite3.connect(db_path)\n",
    "    cur = con.cursor()\n",
    "    try:    \n",
    "        cur.execute(\"DROP TABLE IF EXISTS ot\")#drop if already exists tables in DB\n",
    "        cur.execute(\"\"\"CREATE TABLE ot\n",
    "           (dept_name text, emp_name text, title text, jan numeric, feb numeric,\n",
    "       mar numeric, apr numeric, may numeric, jun numeric,jul numeric, aug numeric, sep numeric,\n",
    "       oct numeric, nov numeric, dec numeric, total numeric, year text)\n",
    "        \"\"\")\n",
    "    except Exception as e:\n",
    "        print(e)\n",
    "    con.commit()\n",
    "    con.close()"
   ]
  },
  {
   "cell_type": "markdown",
   "metadata": {},
   "source": [
    "Need consistent column names for all the pandas dataframes.  We'll be pushing dataframes directly to sqlite.\n"
   ]
  },
  {
   "cell_type": "code",
   "execution_count": 91,
   "metadata": {
    "collapsed": true
   },
   "outputs": [],
   "source": [
    "table_cols = ['dept_name' , 'emp_name', 'title' , 'jan' , 'feb' ,'mar' , 'apr' , 'may' , 'jun' ,'jul' , 'aug' , 'sep' , 'oct' , 'nov' , 'dec' , 'total' , 'year']"
   ]
  },
  {
   "cell_type": "code",
   "execution_count": 92,
   "metadata": {
    "collapsed": false
   },
   "outputs": [],
   "source": [
    "db_path = 'chicago_data.db'\n",
    "create_db(db_path)"
   ]
  },
  {
   "cell_type": "code",
   "execution_count": 93,
   "metadata": {
    "collapsed": true
   },
   "outputs": [],
   "source": [
    "con = sqlite3.connect(db_path)#Create database to store movie and rating info for easy storage and querying\n",
    "cur = con.cursor()"
   ]
  },
  {
   "cell_type": "markdown",
   "metadata": {},
   "source": [
    "#### One last check on the data before adding to DB"
   ]
  },
  {
   "cell_type": "code",
   "execution_count": 94,
   "metadata": {
    "collapsed": false,
    "scrolled": true
   },
   "outputs": [
    {
     "data": {
      "text/html": [
       "<div>\n",
       "<table border=\"1\" class=\"dataframe\">\n",
       "  <thead>\n",
       "    <tr style=\"text-align: right;\">\n",
       "      <th></th>\n",
       "      <th>dept_name</th>\n",
       "      <th>emp_name</th>\n",
       "      <th>title</th>\n",
       "      <th>jan</th>\n",
       "      <th>feb</th>\n",
       "      <th>mar</th>\n",
       "      <th>apr</th>\n",
       "      <th>may</th>\n",
       "      <th>jun</th>\n",
       "      <th>jul</th>\n",
       "      <th>aug</th>\n",
       "      <th>sep</th>\n",
       "      <th>oct</th>\n",
       "      <th>nov</th>\n",
       "      <th>dec</th>\n",
       "      <th>total</th>\n",
       "      <th>year</th>\n",
       "    </tr>\n",
       "  </thead>\n",
       "  <tbody>\n",
       "    <tr>\n",
       "      <th>0</th>\n",
       "      <td>Administrative Hearings</td>\n",
       "      <td>WOODRIDGE RACHENETTE</td>\n",
       "      <td>ADMINISTRATIVE ASST II</td>\n",
       "      <td>0.0</td>\n",
       "      <td>0.0</td>\n",
       "      <td>0.0</td>\n",
       "      <td>0.0</td>\n",
       "      <td>0.0</td>\n",
       "      <td>0.0</td>\n",
       "      <td>0.0</td>\n",
       "      <td>0.0</td>\n",
       "      <td>0.0</td>\n",
       "      <td>0.0</td>\n",
       "      <td>445.0</td>\n",
       "      <td>0.0</td>\n",
       "      <td>445.0</td>\n",
       "      <td>2012-12-31</td>\n",
       "    </tr>\n",
       "    <tr>\n",
       "      <th>1</th>\n",
       "      <td>Animal Care and Control</td>\n",
       "      <td>HOLLOWAY EFREM J</td>\n",
       "      <td>ANIMAL CARE AIDE II</td>\n",
       "      <td>278.0</td>\n",
       "      <td>670.0</td>\n",
       "      <td>1040.0</td>\n",
       "      <td>0.0</td>\n",
       "      <td>0.0</td>\n",
       "      <td>0.0</td>\n",
       "      <td>0.0</td>\n",
       "      <td>0.0</td>\n",
       "      <td>0.0</td>\n",
       "      <td>0.0</td>\n",
       "      <td>0.0</td>\n",
       "      <td>287.0</td>\n",
       "      <td>2275.0</td>\n",
       "      <td>2012-12-31</td>\n",
       "    </tr>\n",
       "    <tr>\n",
       "      <th>2</th>\n",
       "      <td>Animal Care and Control</td>\n",
       "      <td>EDGECOMBE CHERYL K</td>\n",
       "      <td>ANIMAL CONTROL OFFICER</td>\n",
       "      <td>404.0</td>\n",
       "      <td>0.0</td>\n",
       "      <td>771.0</td>\n",
       "      <td>0.0</td>\n",
       "      <td>147.0</td>\n",
       "      <td>637.0</td>\n",
       "      <td>1114.0</td>\n",
       "      <td>478.0</td>\n",
       "      <td>257.0</td>\n",
       "      <td>539.0</td>\n",
       "      <td>257.0</td>\n",
       "      <td>514.0</td>\n",
       "      <td>5118.0</td>\n",
       "      <td>2012-12-31</td>\n",
       "    </tr>\n",
       "    <tr>\n",
       "      <th>3</th>\n",
       "      <td>Animal Care and Control</td>\n",
       "      <td>RUGLIC MARY S</td>\n",
       "      <td>ANIMAL CONTROL OFFICER</td>\n",
       "      <td>0.0</td>\n",
       "      <td>147.0</td>\n",
       "      <td>0.0</td>\n",
       "      <td>0.0</td>\n",
       "      <td>0.0</td>\n",
       "      <td>0.0</td>\n",
       "      <td>0.0</td>\n",
       "      <td>0.0</td>\n",
       "      <td>0.0</td>\n",
       "      <td>0.0</td>\n",
       "      <td>0.0</td>\n",
       "      <td>0.0</td>\n",
       "      <td>147.0</td>\n",
       "      <td>2012-12-31</td>\n",
       "    </tr>\n",
       "    <tr>\n",
       "      <th>4</th>\n",
       "      <td>Animal Care and Control</td>\n",
       "      <td>WASHINGTON MONTESE DAJUAN</td>\n",
       "      <td>VETERINARY ASST</td>\n",
       "      <td>575.0</td>\n",
       "      <td>780.0</td>\n",
       "      <td>1135.0</td>\n",
       "      <td>492.0</td>\n",
       "      <td>657.0</td>\n",
       "      <td>913.0</td>\n",
       "      <td>1552.0</td>\n",
       "      <td>821.0</td>\n",
       "      <td>780.0</td>\n",
       "      <td>954.0</td>\n",
       "      <td>855.0</td>\n",
       "      <td>472.0</td>\n",
       "      <td>9985.0</td>\n",
       "      <td>2012-12-31</td>\n",
       "    </tr>\n",
       "  </tbody>\n",
       "</table>\n",
       "</div>"
      ],
      "text/plain": [
       "                 dept_name                   emp_name                   title  \\\n",
       "0  Administrative Hearings       WOODRIDGE RACHENETTE  ADMINISTRATIVE ASST II   \n",
       "1  Animal Care and Control           HOLLOWAY EFREM J     ANIMAL CARE AIDE II   \n",
       "2  Animal Care and Control         EDGECOMBE CHERYL K  ANIMAL CONTROL OFFICER   \n",
       "3  Animal Care and Control              RUGLIC MARY S  ANIMAL CONTROL OFFICER   \n",
       "4  Animal Care and Control  WASHINGTON MONTESE DAJUAN         VETERINARY ASST   \n",
       "\n",
       "     jan    feb     mar    apr    may    jun     jul    aug    sep    oct  \\\n",
       "0    0.0    0.0     0.0    0.0    0.0    0.0     0.0    0.0    0.0    0.0   \n",
       "1  278.0  670.0  1040.0    0.0    0.0    0.0     0.0    0.0    0.0    0.0   \n",
       "2  404.0    0.0   771.0    0.0  147.0  637.0  1114.0  478.0  257.0  539.0   \n",
       "3    0.0  147.0     0.0    0.0    0.0    0.0     0.0    0.0    0.0    0.0   \n",
       "4  575.0  780.0  1135.0  492.0  657.0  913.0  1552.0  821.0  780.0  954.0   \n",
       "\n",
       "     nov    dec   total       year  \n",
       "0  445.0    0.0   445.0 2012-12-31  \n",
       "1    0.0  287.0  2275.0 2012-12-31  \n",
       "2  257.0  514.0  5118.0 2012-12-31  \n",
       "3    0.0    0.0   147.0 2012-12-31  \n",
       "4  855.0  472.0  9985.0 2012-12-31  "
      ]
     },
     "execution_count": 94,
     "metadata": {},
     "output_type": "execute_result"
    }
   ],
   "source": [
    "ot_data['ot_2012'].head()"
   ]
  },
  {
   "cell_type": "markdown",
   "metadata": {},
   "source": [
    "#### Loop through my dictionary keys, using:    `Pandas.DataFrame.to_sql(table_name, connection, ...)`"
   ]
  },
  {
   "cell_type": "code",
   "execution_count": 95,
   "metadata": {
    "collapsed": false,
    "scrolled": true
   },
   "outputs": [],
   "source": [
    "for file_name in ot_data.keys():\n",
    "    ot_data[file_name].columns = table_cols\n",
    "    ot_data[file_name].to_sql('ot', con, if_exists='append', index=False)"
   ]
  },
  {
   "cell_type": "code",
   "execution_count": 96,
   "metadata": {
    "collapsed": false
   },
   "outputs": [
    {
     "data": {
      "text/plain": [
       "<sqlite3.Cursor at 0x116f871f0>"
      ]
     },
     "execution_count": 96,
     "metadata": {},
     "output_type": "execute_result"
    }
   ],
   "source": [
    "cur.execute(\"\"\"SELECT COUNT(*) FROM ot\"\"\")"
   ]
  },
  {
   "cell_type": "code",
   "execution_count": 97,
   "metadata": {
    "collapsed": false
   },
   "outputs": [
    {
     "data": {
      "text/plain": [
       "[(121097,)]"
      ]
     },
     "execution_count": 97,
     "metadata": {},
     "output_type": "execute_result"
    }
   ],
   "source": [
    "cur.fetchall()"
   ]
  },
  {
   "cell_type": "markdown",
   "metadata": {},
   "source": [
    "### 'ot' Table Column Names:\n",
    "\n",
    "- 'dept_name'\n",
    "- 'emp_name'\n",
    "- 'title'\n",
    "- 'jan'\n",
    "- 'feb'\n",
    "- 'mar'\n",
    "- 'apr'\n",
    "- 'may'\n",
    "- 'jun'\n",
    "- 'jul'\n",
    "- 'aug' \n",
    "- 'sep'\n",
    "- 'oct'\n",
    "- 'nov'\n",
    "- 'dec'\n",
    "- 'total' \n",
    "- 'year'"
   ]
  },
  {
   "cell_type": "code",
   "execution_count": 28,
   "metadata": {
    "collapsed": false
   },
   "outputs": [
    {
     "data": {
      "text/plain": [
       "<sqlite3.Cursor at 0x113d733b0>"
      ]
     },
     "execution_count": 28,
     "metadata": {},
     "output_type": "execute_result"
    }
   ],
   "source": [
    "cur.execute(\"\"\"SELECT total, year \n",
    "                FROM ot\n",
    "                GROUP BY year\"\"\")"
   ]
  },
  {
   "cell_type": "code",
   "execution_count": 29,
   "metadata": {
    "collapsed": true
   },
   "outputs": [],
   "source": [
    "q = \"\"\"SELECT total, year \n",
    "                FROM ot\n",
    "                GROUP BY year\"\"\""
   ]
  },
  {
   "cell_type": "code",
   "execution_count": 30,
   "metadata": {
    "collapsed": true
   },
   "outputs": [],
   "source": [
    "df = pd.read_sql(q,con)"
   ]
  },
  {
   "cell_type": "code",
   "execution_count": 31,
   "metadata": {
    "collapsed": false
   },
   "outputs": [
    {
     "data": {
      "text/html": [
       "<div>\n",
       "<table border=\"1\" class=\"dataframe\">\n",
       "  <thead>\n",
       "    <tr style=\"text-align: right;\">\n",
       "      <th></th>\n",
       "      <th>total</th>\n",
       "      <th>year</th>\n",
       "    </tr>\n",
       "  </thead>\n",
       "  <tbody>\n",
       "    <tr>\n",
       "      <th>0</th>\n",
       "      <td>15554.00</td>\n",
       "      <td>2012</td>\n",
       "    </tr>\n",
       "    <tr>\n",
       "      <th>1</th>\n",
       "      <td>609.30</td>\n",
       "      <td>2013</td>\n",
       "    </tr>\n",
       "    <tr>\n",
       "      <th>2</th>\n",
       "      <td>50211.49</td>\n",
       "      <td>2014</td>\n",
       "    </tr>\n",
       "    <tr>\n",
       "      <th>3</th>\n",
       "      <td>22773.31</td>\n",
       "      <td>2015</td>\n",
       "    </tr>\n",
       "    <tr>\n",
       "      <th>4</th>\n",
       "      <td>25249.60</td>\n",
       "      <td>2016</td>\n",
       "    </tr>\n",
       "  </tbody>\n",
       "</table>\n",
       "</div>"
      ],
      "text/plain": [
       "      total  year\n",
       "0  15554.00  2012\n",
       "1    609.30  2013\n",
       "2  50211.49  2014\n",
       "3  22773.31  2015\n",
       "4  25249.60  2016"
      ]
     },
     "execution_count": 31,
     "metadata": {},
     "output_type": "execute_result"
    }
   ],
   "source": [
    "df.head()"
   ]
  },
  {
   "cell_type": "code",
   "execution_count": 32,
   "metadata": {
    "collapsed": false
   },
   "outputs": [],
   "source": [
    "cur.close()"
   ]
  },
  {
   "cell_type": "markdown",
   "metadata": {},
   "source": [
    "Dollar values are looking like strings, we'll need to fix that.  I also don't care about about names for now, more concerned with Department Name.  Title could be interesting for other analysis but lets start with analysis grouped by Department."
   ]
  },
  {
   "cell_type": "markdown",
   "metadata": {},
   "source": [
    "---\n",
    "\n",
    "# OT Data - Normalize\n",
    "---"
   ]
  },
  {
   "cell_type": "markdown",
   "metadata": {},
   "source": [
    "Restructure data"
   ]
  },
  {
   "cell_type": "code",
   "execution_count": 73,
   "metadata": {
    "collapsed": true
   },
   "outputs": [],
   "source": [
    "ot_data_original = ot_data"
   ]
  },
  {
   "cell_type": "code",
   "execution_count": 74,
   "metadata": {
    "collapsed": false
   },
   "outputs": [],
   "source": [
    "keep_list = ot_data['ot_2012'].columns.tolist()[3:-2]"
   ]
  },
  {
   "cell_type": "code",
   "execution_count": 75,
   "metadata": {
    "collapsed": false
   },
   "outputs": [
    {
     "data": {
      "text/plain": [
       "['DEPARTMENT NAME',\n",
       " 'EMPLOYEE NAME',\n",
       " 'TITLE',\n",
       " 'JAN 2012',\n",
       " 'FEB 2012',\n",
       " 'MAR 2012',\n",
       " 'APR 2012',\n",
       " 'MAY 2012',\n",
       " 'JUN 2012',\n",
       " 'JUL 2012',\n",
       " 'AUG 2012',\n",
       " 'SEPT 2012',\n",
       " 'OCT 2012',\n",
       " 'NOV 2012',\n",
       " 'DEC 2012',\n",
       " '2012 TOTAL',\n",
       " 'YEAR']"
      ]
     },
     "execution_count": 75,
     "metadata": {},
     "output_type": "execute_result"
    }
   ],
   "source": [
    "[x.upper() for x in ot_data['ot_2012'].columns.tolist()]"
   ]
  },
  {
   "cell_type": "code",
   "execution_count": 77,
   "metadata": {
    "collapsed": false
   },
   "outputs": [],
   "source": [
    "work_df = pd.melt(ot_data['ot_2012'], id_vars=['Department Name','Title'], value_vars=keep_list)"
   ]
  },
  {
   "cell_type": "code",
   "execution_count": 78,
   "metadata": {
    "collapsed": false
   },
   "outputs": [
    {
     "data": {
      "text/plain": [
       "Index([u'Department Name', u'Title', u'variable', u'value'], dtype='object')"
      ]
     },
     "execution_count": 78,
     "metadata": {},
     "output_type": "execute_result"
    }
   ],
   "source": [
    "work_df.columns"
   ]
  },
  {
   "cell_type": "code",
   "execution_count": 79,
   "metadata": {
    "collapsed": true
   },
   "outputs": [],
   "source": [
    "work_df.columns = ['Department Name', 'Title', 'Date', 'OT Pay']"
   ]
  },
  {
   "cell_type": "code",
   "execution_count": 80,
   "metadata": {
    "collapsed": false
   },
   "outputs": [
    {
     "data": {
      "text/html": [
       "<div>\n",
       "<table border=\"1\" class=\"dataframe\">\n",
       "  <thead>\n",
       "    <tr style=\"text-align: right;\">\n",
       "      <th></th>\n",
       "      <th>Department Name</th>\n",
       "      <th>Title</th>\n",
       "      <th>Date</th>\n",
       "      <th>OT Pay</th>\n",
       "    </tr>\n",
       "  </thead>\n",
       "  <tbody>\n",
       "    <tr>\n",
       "      <th>0</th>\n",
       "      <td>Administrative Hearings</td>\n",
       "      <td>ADMINISTRATIVE ASST II</td>\n",
       "      <td>Jan 2012</td>\n",
       "      <td>0.0</td>\n",
       "    </tr>\n",
       "    <tr>\n",
       "      <th>1</th>\n",
       "      <td>Animal Care and Control</td>\n",
       "      <td>ANIMAL CARE AIDE II</td>\n",
       "      <td>Jan 2012</td>\n",
       "      <td>278.0</td>\n",
       "    </tr>\n",
       "    <tr>\n",
       "      <th>2</th>\n",
       "      <td>Animal Care and Control</td>\n",
       "      <td>ANIMAL CONTROL OFFICER</td>\n",
       "      <td>Jan 2012</td>\n",
       "      <td>404.0</td>\n",
       "    </tr>\n",
       "    <tr>\n",
       "      <th>3</th>\n",
       "      <td>Animal Care and Control</td>\n",
       "      <td>ANIMAL CONTROL OFFICER</td>\n",
       "      <td>Jan 2012</td>\n",
       "      <td>0.0</td>\n",
       "    </tr>\n",
       "    <tr>\n",
       "      <th>4</th>\n",
       "      <td>Animal Care and Control</td>\n",
       "      <td>VETERINARY ASST</td>\n",
       "      <td>Jan 2012</td>\n",
       "      <td>575.0</td>\n",
       "    </tr>\n",
       "  </tbody>\n",
       "</table>\n",
       "</div>"
      ],
      "text/plain": [
       "           Department Name                   Title      Date  OT Pay\n",
       "0  Administrative Hearings  ADMINISTRATIVE ASST II  Jan 2012     0.0\n",
       "1  Animal Care and Control     ANIMAL CARE AIDE II  Jan 2012   278.0\n",
       "2  Animal Care and Control  ANIMAL CONTROL OFFICER  Jan 2012   404.0\n",
       "3  Animal Care and Control  ANIMAL CONTROL OFFICER  Jan 2012     0.0\n",
       "4  Animal Care and Control         VETERINARY ASST  Jan 2012   575.0"
      ]
     },
     "execution_count": 80,
     "metadata": {},
     "output_type": "execute_result"
    }
   ],
   "source": [
    "work_df.head()"
   ]
  },
  {
   "cell_type": "code",
   "execution_count": 81,
   "metadata": {
    "collapsed": true
   },
   "outputs": [],
   "source": [
    "def clean_date(date):\n",
    "    date = date.split(' ')[0][:3] + \" \" + date.split(' ')[1]\n",
    "    return(datetime.strptime(date , '%b %Y'))"
   ]
  },
  {
   "cell_type": "code",
   "execution_count": 82,
   "metadata": {
    "collapsed": false,
    "scrolled": false
   },
   "outputs": [],
   "source": [
    "work_df['Date'] = work_df['Date'].map(lambda x: clean_date(x))"
   ]
  },
  {
   "cell_type": "code",
   "execution_count": 83,
   "metadata": {
    "collapsed": false
   },
   "outputs": [
    {
     "data": {
      "text/html": [
       "<div>\n",
       "<table border=\"1\" class=\"dataframe\">\n",
       "  <thead>\n",
       "    <tr style=\"text-align: right;\">\n",
       "      <th></th>\n",
       "      <th>Department Name</th>\n",
       "      <th>Title</th>\n",
       "      <th>Date</th>\n",
       "      <th>OT Pay</th>\n",
       "    </tr>\n",
       "  </thead>\n",
       "  <tbody>\n",
       "    <tr>\n",
       "      <th>0</th>\n",
       "      <td>Administrative Hearings</td>\n",
       "      <td>ADMINISTRATIVE ASST II</td>\n",
       "      <td>2012-01-01</td>\n",
       "      <td>0.0</td>\n",
       "    </tr>\n",
       "    <tr>\n",
       "      <th>1</th>\n",
       "      <td>Animal Care and Control</td>\n",
       "      <td>ANIMAL CARE AIDE II</td>\n",
       "      <td>2012-01-01</td>\n",
       "      <td>278.0</td>\n",
       "    </tr>\n",
       "    <tr>\n",
       "      <th>2</th>\n",
       "      <td>Animal Care and Control</td>\n",
       "      <td>ANIMAL CONTROL OFFICER</td>\n",
       "      <td>2012-01-01</td>\n",
       "      <td>404.0</td>\n",
       "    </tr>\n",
       "    <tr>\n",
       "      <th>3</th>\n",
       "      <td>Animal Care and Control</td>\n",
       "      <td>ANIMAL CONTROL OFFICER</td>\n",
       "      <td>2012-01-01</td>\n",
       "      <td>0.0</td>\n",
       "    </tr>\n",
       "    <tr>\n",
       "      <th>4</th>\n",
       "      <td>Animal Care and Control</td>\n",
       "      <td>VETERINARY ASST</td>\n",
       "      <td>2012-01-01</td>\n",
       "      <td>575.0</td>\n",
       "    </tr>\n",
       "  </tbody>\n",
       "</table>\n",
       "</div>"
      ],
      "text/plain": [
       "           Department Name                   Title       Date  OT Pay\n",
       "0  Administrative Hearings  ADMINISTRATIVE ASST II 2012-01-01     0.0\n",
       "1  Animal Care and Control     ANIMAL CARE AIDE II 2012-01-01   278.0\n",
       "2  Animal Care and Control  ANIMAL CONTROL OFFICER 2012-01-01   404.0\n",
       "3  Animal Care and Control  ANIMAL CONTROL OFFICER 2012-01-01     0.0\n",
       "4  Animal Care and Control         VETERINARY ASST 2012-01-01   575.0"
      ]
     },
     "execution_count": 83,
     "metadata": {},
     "output_type": "execute_result"
    }
   ],
   "source": [
    "work_df.head()"
   ]
  },
  {
   "cell_type": "code",
   "execution_count": 84,
   "metadata": {
    "collapsed": true
   },
   "outputs": [],
   "source": [
    "def clean_date(date, name = None):\n",
    "    if ' ' in date:\n",
    "        date = date.split(' ')[0][:3] + \" \" + date.split(' ')[1]\n",
    "    else:\n",
    "        date = date[:3] + \" \" + name[-4:]\n",
    "    return(datetime.strptime(date , '%b %Y'))\n",
    "\n",
    "def prep_long_data(df, name = None):\n",
    "    print('Prepping colulmns...')\n",
    "    df.columns = [x.upper() for x in df.columns.tolist()]\n",
    "    \n",
    "    keep_list = df.columns.tolist()[3:-2]\n",
    "    print('Reshaping data...')\n",
    "    temp_df = pd.melt(df, id_vars=['DEPARTMENT NAME','TITLE'], value_vars=keep_list)\n",
    "    \n",
    "    temp_df.columns = ['Department Name', 'Title', 'Date', 'OT Pay']\n",
    "    print('Converting date...')\n",
    "    temp_df['Date'] = temp_df['Date'].map(lambda x: clean_date(x, name))\n",
    "    print(name+ ' Complete! \\n')\n",
    "    return(temp_df)"
   ]
  },
  {
   "cell_type": "code",
   "execution_count": 85,
   "metadata": {
    "collapsed": false
   },
   "outputs": [
    {
     "name": "stdout",
     "output_type": "stream",
     "text": [
      "Prepping colulmns...\n",
      "Reshaping data...\n",
      "Converting date...\n",
      "ot_2015 Complete! \n",
      "\n"
     ]
    }
   ],
   "source": [
    "test = prep_long_data(ot_data['ot_2015'], 'ot_2015')"
   ]
  },
  {
   "cell_type": "code",
   "execution_count": 86,
   "metadata": {
    "collapsed": false
   },
   "outputs": [
    {
     "name": "stdout",
     "output_type": "stream",
     "text": [
      "Prepping colulmns...\n",
      "Reshaping data...\n",
      "Converting date...\n",
      "ot_2012 Complete! \n",
      "\n",
      "Prepping colulmns...\n",
      "Reshaping data...\n",
      "Converting date...\n",
      "ot_2013 Complete! \n",
      "\n",
      "Prepping colulmns...\n",
      "Reshaping data...\n",
      "Converting date...\n",
      "ot_2016 Complete! \n",
      "\n",
      "Prepping colulmns...\n",
      "Reshaping data...\n",
      "Converting date...\n",
      "ot_2014 Complete! \n",
      "\n",
      "Prepping colulmns...\n",
      "Reshaping data...\n",
      "Converting date...\n",
      "ot_2015 Complete! \n",
      "\n"
     ]
    }
   ],
   "source": [
    "for df_name in ot_data.keys():\n",
    "    ot_data[df_name]= prep_long_data(ot_data[df_name], df_name)"
   ]
  },
  {
   "cell_type": "code",
   "execution_count": 95,
   "metadata": {
    "collapsed": false
   },
   "outputs": [],
   "source": [
    "table_cols = ['dept_name', 'title', 'date', 'ot_pay']"
   ]
  },
  {
   "cell_type": "code",
   "execution_count": 98,
   "metadata": {
    "collapsed": true
   },
   "outputs": [],
   "source": [
    "def create_db(db_path):\n",
    "    '''Bad function design'''\n",
    "    con = sqlite3.connect(db_path)\n",
    "    cur = con.cursor()\n",
    "    try:    \n",
    "        cur.execute(\"DROP TABLE IF EXISTS ot_long\")#drop if already exists tables in DB\n",
    "        cur.execute(\"\"\"CREATE TABLE ot_long\n",
    "           (dept_name text, title text, date text, ot_pay numeric)\n",
    "        \"\"\")\n",
    "    except Exception as e:\n",
    "        print(e)\n",
    "    con.commit()\n",
    "    con.close()"
   ]
  },
  {
   "cell_type": "code",
   "execution_count": 99,
   "metadata": {
    "collapsed": false
   },
   "outputs": [],
   "source": [
    "db_path = 'chicago_data.db'\n",
    "create_db(db_path)"
   ]
  },
  {
   "cell_type": "code",
   "execution_count": 100,
   "metadata": {
    "collapsed": true
   },
   "outputs": [],
   "source": [
    "con = sqlite3.connect(db_path)#Create database to store movie and rating info for easy storage and querying\n",
    "cur = con.cursor()"
   ]
  },
  {
   "cell_type": "markdown",
   "metadata": {},
   "source": [
    "#### One last check on the data before adding to DB"
   ]
  },
  {
   "cell_type": "code",
   "execution_count": 101,
   "metadata": {
    "collapsed": false,
    "scrolled": true
   },
   "outputs": [
    {
     "data": {
      "text/html": [
       "<div>\n",
       "<table border=\"1\" class=\"dataframe\">\n",
       "  <thead>\n",
       "    <tr style=\"text-align: right;\">\n",
       "      <th></th>\n",
       "      <th>Department Name</th>\n",
       "      <th>Title</th>\n",
       "      <th>Date</th>\n",
       "      <th>OT Pay</th>\n",
       "    </tr>\n",
       "  </thead>\n",
       "  <tbody>\n",
       "    <tr>\n",
       "      <th>0</th>\n",
       "      <td>Administrative Hearings</td>\n",
       "      <td>ADMINISTRATIVE ASST II</td>\n",
       "      <td>2012-01-01</td>\n",
       "      <td>0.0</td>\n",
       "    </tr>\n",
       "    <tr>\n",
       "      <th>1</th>\n",
       "      <td>Animal Care and Control</td>\n",
       "      <td>ANIMAL CARE AIDE II</td>\n",
       "      <td>2012-01-01</td>\n",
       "      <td>278.0</td>\n",
       "    </tr>\n",
       "    <tr>\n",
       "      <th>2</th>\n",
       "      <td>Animal Care and Control</td>\n",
       "      <td>ANIMAL CONTROL OFFICER</td>\n",
       "      <td>2012-01-01</td>\n",
       "      <td>404.0</td>\n",
       "    </tr>\n",
       "    <tr>\n",
       "      <th>3</th>\n",
       "      <td>Animal Care and Control</td>\n",
       "      <td>ANIMAL CONTROL OFFICER</td>\n",
       "      <td>2012-01-01</td>\n",
       "      <td>0.0</td>\n",
       "    </tr>\n",
       "    <tr>\n",
       "      <th>4</th>\n",
       "      <td>Animal Care and Control</td>\n",
       "      <td>VETERINARY ASST</td>\n",
       "      <td>2012-01-01</td>\n",
       "      <td>575.0</td>\n",
       "    </tr>\n",
       "  </tbody>\n",
       "</table>\n",
       "</div>"
      ],
      "text/plain": [
       "           Department Name                   Title       Date  OT Pay\n",
       "0  Administrative Hearings  ADMINISTRATIVE ASST II 2012-01-01     0.0\n",
       "1  Animal Care and Control     ANIMAL CARE AIDE II 2012-01-01   278.0\n",
       "2  Animal Care and Control  ANIMAL CONTROL OFFICER 2012-01-01   404.0\n",
       "3  Animal Care and Control  ANIMAL CONTROL OFFICER 2012-01-01     0.0\n",
       "4  Animal Care and Control         VETERINARY ASST 2012-01-01   575.0"
      ]
     },
     "execution_count": 101,
     "metadata": {},
     "output_type": "execute_result"
    }
   ],
   "source": [
    "ot_data['ot_2012'].head()"
   ]
  },
  {
   "cell_type": "markdown",
   "metadata": {},
   "source": [
    "#### Loop through my dictionary keys, using:    `Pandas.DataFrame.to_sql(table_name, connection, ...)`"
   ]
  },
  {
   "cell_type": "code",
   "execution_count": 102,
   "metadata": {
    "collapsed": false,
    "scrolled": true
   },
   "outputs": [],
   "source": [
    "for file_name in ot_data.keys():\n",
    "    ot_data[file_name].columns = table_cols\n",
    "    ot_data[file_name].to_sql('ot_long', con, if_exists='append', index=False)"
   ]
  },
  {
   "cell_type": "code",
   "execution_count": 105,
   "metadata": {
    "collapsed": false
   },
   "outputs": [
    {
     "data": {
      "text/plain": [
       "<sqlite3.Cursor at 0x11b7ef9d0>"
      ]
     },
     "execution_count": 105,
     "metadata": {},
     "output_type": "execute_result"
    }
   ],
   "source": [
    "cur.execute(\"\"\"SELECT COUNT(*) FROM ot_long\"\"\")"
   ]
  },
  {
   "cell_type": "code",
   "execution_count": 106,
   "metadata": {
    "collapsed": false
   },
   "outputs": [
    {
     "data": {
      "text/plain": [
       "[(1453164,)]"
      ]
     },
     "execution_count": 106,
     "metadata": {},
     "output_type": "execute_result"
    }
   ],
   "source": [
    "cur.fetchall()"
   ]
  },
  {
   "cell_type": "code",
   "execution_count": 107,
   "metadata": {
    "collapsed": true
   },
   "outputs": [],
   "source": [
    "cur.close()\n",
    "con.close()"
   ]
  }
 ],
 "metadata": {
  "kernelspec": {
   "display_name": "python3",
   "language": "python",
   "name": "python3"
  },
  "language_info": {
   "codemirror_mode": {
    "name": "ipython",
    "version": 2
   },
   "file_extension": ".py",
   "mimetype": "text/x-python",
   "name": "python",
   "nbconvert_exporter": "python",
   "pygments_lexer": "ipython2",
   "version": "2.7.12"
  }
 },
 "nbformat": 4,
 "nbformat_minor": 0
}
